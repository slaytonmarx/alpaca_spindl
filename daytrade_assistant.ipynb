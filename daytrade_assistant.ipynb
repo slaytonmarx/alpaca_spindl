{
 "cells": [
  {
   "cell_type": "code",
   "execution_count": null,
   "metadata": {},
   "outputs": [],
   "source": [
    "%load_ext autoreload\n",
    "%autoreload 2\n",
    "\n",
    "import sys; sys.path.append('../lib/*/*'); sys.path.append('..')\n",
    "from lib.RoboTrader import RoboTrader\n",
    "from lib.selectors.MLSelection import MLSelection\n",
    "import lib.tools.Broker as Broker\n",
    "import matplotlib.pyplot as plt\n",
    "import pandas as pd\n",
    "import lib.tools.Scrivener as sc\n",
    "import lib.tools.Toolbox as tb\n",
    "import lib.tools.TimeKeeper as tk\n",
    "import alpaca_trade_api as alp"
   ]
  },
  {
   "cell_type": "code",
   "execution_count": null,
   "metadata": {},
   "outputs": [],
   "source": [
    "api = Broker.paper_api()\n",
    "robotrader = RoboTrader(api, selector=MLSelection)\n",
    "robotrader.trade_cycle()"
   ]
  },
  {
   "cell_type": "code",
   "execution_count": null,
   "metadata": {},
   "outputs": [],
   "source": []
  }
 ],
 "metadata": {
  "kernelspec": {
   "display_name": "Python 3",
   "language": "python",
   "name": "python3"
  },
  "language_info": {
   "codemirror_mode": {
    "name": "ipython",
    "version": 3
   },
   "file_extension": ".py",
   "mimetype": "text/x-python",
   "name": "python",
   "nbconvert_exporter": "python",
   "pygments_lexer": "ipython3",
   "version": "3.10.12"
  },
  "orig_nbformat": 4
 },
 "nbformat": 4,
 "nbformat_minor": 2
}
