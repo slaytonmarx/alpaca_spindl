{
 "cells": [
  {
   "cell_type": "code",
   "execution_count": null,
   "metadata": {},
   "outputs": [],
   "source": [
    "%load_ext autoreload\n",
    "%autoreload 2\n",
    "\n",
    "import lib.Toolbox as tb\n",
    "import lib.TimeKeeper as tk\n",
    "import pandas as pd\n",
    "import matplotlib.pyplot as plt"
   ]
  },
  {
   "cell_type": "markdown",
   "metadata": {},
   "source": [
    "# What Needs Doing\n",
    "Here's the painful truth: CVNA may not be a good stock to trade forever. We need to be able to identify when a stock is good to trade and then only trade on it during that time. That's going to require some pretty big, weird things, that honestly make us sort of uncomfortable because they involve more digging into this topic and we're honestly pretty tired of it all, but here goes:\n",
    "\n",
    "1. A way to monitor what people are saying around the market on a given day, aka, some sort of bot that looks at the web to read for sentiment.\n",
    "2. Better language to describe what a market is doing and understand where it's going (mastering trend, aka, if we see a trend forming, we act on that in addition to our bands)"
   ]
  },
  {
   "cell_type": "markdown",
   "metadata": {},
   "source": [
    "What exactly are we doing here? We need a script that:\n",
    "1. Takes a symbol name and creates an archive of it\n",
    "2. Does some sort of process to determine what trading strategy/config/selection strategy would be best for that archive (this will need to be able to take a date so we can update it for a given day)\n",
    "3. Store that information in a manner that will allow other processes to utilize it when making decisions about what to trade with on a given day and, during that day, what to trade."
   ]
  },
  {
   "cell_type": "markdown",
   "metadata": {},
   "source": [
    "What do we do today?\n",
    "1. Update the archive functions to also collect month data and five minute data. Five minute data should be sufficient for broadly predicting behavior.\n",
    "2. Create functions that broadly measure the effectiveness of bollinger bands of MACD for a set of data\n",
    "3. Research terms that we don't know much about\n",
    "4. Research other methods of predicting market viability\n",
    "\n",
    "\n",
    "At some point I'd like to see if we can actually get anything out of the OBV for day selection, but I think that idea is really too half baked to implement effectively right now"
   ]
  },
  {
   "cell_type": "markdown",
   "metadata": {},
   "source": [
    "# New Terms\n",
    "Choppy Market: Buyers and sellers are in balance, there's no clear trend.\n",
    "\n",
    "Swing Highs and Swing Lows: Basically this means that the highs keep getting higher and the lows keep getting lower. If the last min was less than the min before, we may be swinging low, if the last high was higher than the previous high and the last low was higher than the previous low then our trend is likely upward, if it's the reverse then it's likely lower, if there's no clear pattern then we are probably in a choppy market.\n",
    "\n",
    "Bollinger bands thrive most in choppy markets, as crazy as that sounds.\n",
    "\n",
    "Some Initial Thoughts:\n",
    "Make a \"choppiness\" function that determines whether a symbol is in choppy conditions. This will get the relative highs and lows and see if they are balanced or clearly trending. Then we test whether or not our bollinger strategy works in that circumstance using CVNA."
   ]
  },
  {
   "cell_type": "code",
   "execution_count": null,
   "metadata": {},
   "outputs": [],
   "source": [
    "data = tb.get_archive('cvna', '5m')"
   ]
  },
  {
   "cell_type": "markdown",
   "metadata": {},
   "source": [
    "# Assess Bollinger Potential\n",
    "What are my basic assumptions? My basic assumption here is that accuracy of bollinger bands over five minute data will predict effectiveness of bollinger bands over 1 minute data. I think that's a fair assessment, but we can test it by checking it with cvna, as we have both five minute and one minute data for it going back a good while.\n",
    "\n",
    "But what does this actually mean? It means, if we have a bollinger event, check if it's met by a corresponding bollinger event."
   ]
  },
  {
   "cell_type": "code",
   "execution_count": null,
   "metadata": {},
   "outputs": [],
   "source": [
    "def show_bollinger(data, bollinger, dev, day):\n",
    "    bollinger = bollinger[day:]\n",
    "    data = data[day:]\n",
    "    plt.title(dev)\n",
    "    plt.plot(data.index, data.open, lw=.5)\n",
    "    plt.plot(bollinger.index, bollinger.lowband, color='green', lw=.5)\n",
    "    plt.plot(bollinger.index, bollinger.highband, color='red', lw=.5)\n",
    "    plt.plot(bollinger.index, bollinger.moving_average, color='yellow', lw=.5)\n",
    "    plt.show()\n",
    "\n",
    "def find_best_bollinger_fit(index:pd.DatetimeIndex, data:pd.DataFrame):\n",
    "    for bol_dev in [1, 1.1, 1.2, 1.3, 1.4, 1.5, 1.6, 1.7, 1.8, 1.9, 2]:\n",
    "        dayta = data[:index]\n",
    "        bollinger_bands = tb.get_bollinger_bands(dayta.open, num_stds=(bol_dev, 0, -bol_dev))\n",
    "        show_bollinger(dayta, bollinger_bands, bol_dev, tk.today())\n",
    "\n",
    "def get_best_bollinger(data:pd.DataFrame):\n",
    "    time = tk.to_time(1,12,9,46)\n",
    "    find_best_bollinger_fit(time, data)\n",
    "    print(archive.loc[time])\n",
    "\n",
    "get_best_bollinger(archive)"
   ]
  },
  {
   "cell_type": "code",
   "execution_count": null,
   "metadata": {},
   "outputs": [],
   "source": [
    "# Assess Bollinger"
   ]
  },
  {
   "cell_type": "markdown",
   "metadata": {},
   "source": [
    "# Rectangle Assessment"
   ]
  },
  {
   "cell_type": "code",
   "execution_count": null,
   "metadata": {},
   "outputs": [],
   "source": []
  },
  {
   "cell_type": "markdown",
   "metadata": {},
   "source": [
    "# Assess Trend"
   ]
  },
  {
   "cell_type": "code",
   "execution_count": null,
   "metadata": {},
   "outputs": [],
   "source": [
    "mo_data = tb.get_archive('cvna', '1d')\n",
    "data = tb.get_archive('cvna', '1m')\n",
    "\n",
    "def assess_trend(index:pd.DatetimeIndex, data:pd.DataFrame, buffer:int = 3):\n",
    "    '''Determines whether the given day is likely to be in an upswing, and downward swing, or a choppy market'''\n",
    "    i = tb.get_i(index, data)\n",
    "    if i < buffer: print('Must have at least',buffer,'days to derive trend'); return\n",
    "    delta = data.iloc[i-buffer:i].diff()\n",
    "    high_trend, low_trend = delta.high.sum() > 0, delta.low.sum() > 0\n",
    "\n",
    "    if high_trend and low_trend: return 'UP'\n",
    "    elif not high_trend and not low_trend: return 'DOWN'\n",
    "    else: return 'CHOP'\n",
    "\n",
    "decisions = []\n",
    "subset = mo_data[-60:]\n",
    "for day in subset.index:\n",
    "    decisions.append([day,assess_trend(day, mo_data)])\n",
    "\n",
    "plt.plot(subset.index, subset.open, lw=.5)\n",
    "for dec in decisions:\n",
    "    if dec[1] == 'UP': plt.axvline(dec[0], color='green',lw=.5)\n",
    "    elif dec[1] == 'DOWN': plt.axvline(dec[0], color='red',lw=.5)\n",
    "    elif dec[1] == 'CHOP': plt.axvline(dec[0], color='yellow',lw=.5)\n",
    "plt.show()\n",
    "\n",
    "for dec in decisions:\n",
    "    day_subset = tk.get_workday(data, dec[0])\n",
    "    plt.plot(day_subset.index, day_subset.open, lw=.5)\n",
    "    plt.title(dec[0])\n",
    "    for index in day_subset.index:\n",
    "        if dec[1] == 'UP': plt.axvline(index, color='green',lw=.5, alpha=.15)\n",
    "        elif dec[1] == 'DOWN': plt.axvline(index, color='red',lw=.5, alpha=.15)\n",
    "        elif dec[1] == 'CHOP': plt.axvline(index, color='yellow',lw=.5, alpha=.15)\n",
    "    plt.show()"
   ]
  },
  {
   "cell_type": "markdown",
   "metadata": {},
   "source": [
    "# Simple Candle Stick Analysis"
   ]
  },
  {
   "cell_type": "code",
   "execution_count": null,
   "metadata": {},
   "outputs": [],
   "source": [
    "data = tb.get_data('amzn', '1m', '1d')"
   ]
  },
  {
   "cell_type": "code",
   "execution_count": null,
   "metadata": {},
   "outputs": [],
   "source": [
    "ups, downs = [], []\n",
    "\n",
    "def predict_change(data:pd.DataFrame, i:int, lookback:int=3):\n",
    "    entries = data[i-lookback:i]\n",
    "    clop = entries.close - entries.open\n",
    "    dclop = clop.diff()\n",
    "\n",
    "    sway = 0\n",
    "    if dclop[-1] > 0: sway += 1\n",
    "    else: sway -= 1\n",
    "    # if clo > op:\n",
    "        # if op - lo < clo - op: print('next is going up'); ups.append(index)\n",
    "        # elif op - lo > op - clo: print('next is going down'); downs.append(index)\n",
    "    if sway > 0: ups.append(data.index[i])\n",
    "    else: downs.append(data.index[i])\n",
    "\n",
    "for i in range(len(data.index))[-30:-1]:\n",
    "    print(data.index[i])\n",
    "    predict_change(data, i)\n",
    "\n",
    "df = data[-30:-1]\n",
    "plt.plot(df.index, df.open, lw=.5)\n",
    "for up in ups:\n",
    "    print(up)\n",
    "    plt.axvline(up, color='green', lw=.5)\n",
    "for down in downs:\n",
    "    plt.axvline(down, color='red', lw=.5)\n",
    "plt.show()\n",
    "\n"
   ]
  },
  {
   "cell_type": "code",
   "execution_count": null,
   "metadata": {},
   "outputs": [],
   "source": [
    "ups, downs = [], []\n",
    "\n",
    "def predict_change(data:pd.DataFrame, i:int, lookback:int=1):\n",
    "    entries = data[i-lookback:i]\n",
    "    last = entries.iloc[-1]\n",
    "\n",
    "    # We fell during this entry\n",
    "    if last.open > last.close:\n",
    "        upward_pressure = last.high - last.open\n",
    "        downward_pressure = last.close - last.low\n",
    "        candle = last.open - last.close\n",
    "    # We rose\n",
    "    else:\n",
    "        upward_pressure = last.high - last.close\n",
    "        downward_pressure = last.open - last.low\n",
    "        candle = last.close - last.open\n",
    "\n",
    "    if upward_pressure > downward_pressure: ups.append(data.index[i]); return True\n",
    "    elif upward_pressure < downward_pressure: downs.append(data.index[i]); return False\n",
    "\n",
    "success, total = 0, 0\n",
    "failures = []\n",
    "for i in range(len(data.index))[-120:-1]:\n",
    "    going_up = predict_change(data, i)\n",
    "    total += 1\n",
    "    if going_up and data.iloc[i].open < data.iloc[i].high: success += 1\n",
    "    elif not going_up and data.iloc[i].open > data.iloc[i].low: success += 1\n",
    "    else: print('FAILED AT',data.index[i]); failures.append(data.index[i])\n",
    "\n",
    "print(success/total)\n",
    "\n",
    "df = data[-120:-1]\n",
    "plt.figure(dpi=200)\n",
    "plt.plot(df.index, df.open, lw=.5)\n",
    "for up in ups:\n",
    "    print(up)\n",
    "    plt.axvline(up, color='green', lw=.5)\n",
    "for down in downs:\n",
    "    plt.axvline(down, color='red', lw=.5)\n",
    "for fails in failures:\n",
    "    plt.axvline(fails, color='violet', lw=.75)#, alpha=.25)\n",
    "\n",
    "plt.show()\n"
   ]
  },
  {
   "cell_type": "code",
   "execution_count": null,
   "metadata": {},
   "outputs": [],
   "source": [
    "'''\n",
    "THEORY CRAFTING\n",
    "We can call the difference between the high and (open close) as the \"UPWARD PRESSURE\"\n",
    "and the difference between the low and (open close) as the \"DOWNWARD PRESSURE\"\n",
    "\n",
    "If something has strong downward pressure then the next action is going to be down,\n",
    "if it has strong upward pressure then the next action will be up. If the ration between\n",
    "downward pressure and upward pressure isn't that big, then we don't know.\n",
    "\n",
    "We should also consider the ration between the pressures and the actual candle.\n",
    "If pressures are huge but the candle is small that means we're at an inflection point.\n",
    "\n",
    "\n",
    "\n",
    "'''\n",
    "\n",
    "\n",
    "\n",
    "'''\n",
    "\n",
    "For RISING Trend\n",
    "Factors which seem to suggest rising:\n",
    "    1. Increase in range between open and close\n",
    "    2. If the close and the high are close together\n",
    "\n",
    "Factors which seem to suggest falling\n",
    "    1. Decrease in range between open and close\n",
    "    2. If the close and the high are far apart\n",
    "    3. If the low is trailing down (the lows are more and more)\n",
    "\n",
    "For FALLING Trend\n",
    "Factors which seem to suggest rising:\n",
    "    1. Increase in range between open and close\n",
    "    2. If the high is trailing up\n",
    "\n",
    "Factors which seem to suggest falling:\n",
    "    1. Decrease in range between open and close\n",
    "    2. If the low is trailing down\n",
    "'''\n",
    "\n",
    "'''\n",
    "Hypothesis:\n",
    "    We can use the candlestick chart to predict the immediate short term movement of stocks.\n",
    "    How do we do that?\n",
    "\n",
    "    Notice that right before the stock starts to go down, the low is fairly low, and right\n",
    "        before the stock begins to go up, the high is fairly high, even if the close is not\n",
    "        that high.\n",
    "\n",
    "    Ok, how do we turn this into an algorithm. Basically:\n",
    "    \n",
    "    IF OPEN > CLOSE\n",
    "    ELIF CLOSE > OPEN\n",
    "        if low - open > close - open: we're going down\n",
    "        elif open - close > high - close: we're going up\n",
    "\n",
    "'''"
   ]
  },
  {
   "cell_type": "code",
   "execution_count": null,
   "metadata": {},
   "outputs": [],
   "source": []
  }
 ],
 "metadata": {
  "kernelspec": {
   "display_name": "Python 3",
   "language": "python",
   "name": "python3"
  },
  "language_info": {
   "codemirror_mode": {
    "name": "ipython",
    "version": 3
   },
   "file_extension": ".py",
   "mimetype": "text/x-python",
   "name": "python",
   "nbconvert_exporter": "python",
   "pygments_lexer": "ipython3",
   "version": "3.10.12"
  }
 },
 "nbformat": 4,
 "nbformat_minor": 2
}
