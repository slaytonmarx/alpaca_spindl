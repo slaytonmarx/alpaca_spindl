{
 "cells": [
  {
   "cell_type": "code",
   "execution_count": null,
   "metadata": {},
   "outputs": [],
   "source": [
    "%load_ext autoreload\n",
    "%autoreload 2\n",
    "\n",
    "import lib.TimeKeeper as tk\n",
    "import lib.Toolbox as tb\n",
    "import pandas as pd\n",
    "import numpy as np\n",
    "from matplotlib import pyplot as plt"
   ]
  },
  {
   "cell_type": "code",
   "execution_count": null,
   "metadata": {},
   "outputs": [],
   "source": [
    "data = tb.get_archive('CVNA')\n",
    "bollinger = tb.get_bollinger_bands(data.open, num_stds=(1.5,0,-1.5))"
   ]
  },
  {
   "cell_type": "code",
   "execution_count": null,
   "metadata": {},
   "outputs": [],
   "source": [
    "success, total = 0, 0\n",
    "earnings = 0\n",
    "points = []\n",
    "for index in data.index[1:-5]:\n",
    "    pindex = tb.get_previous_index(index, data)\n",
    "    val, pval =  data.open.loc[index], data.open.loc[pindex]\n",
    "    bol_high, pbol_high = bollinger.highband.loc[index], bollinger.highband.loc[pindex]\n",
    "    bol_low, pbol_low = bollinger.lowband.loc[index], bollinger.lowband.loc[pindex]\n",
    "    \n",
    "    # Shortsell\n",
    "    if val < bol_high and pval > pbol_high:\n",
    "        window = data.open[index+pd.DateOffset(minutes=1):index + pd.DateOffset(minutes=15)]\n",
    "        total += 1\n",
    "        if val > window.min() and window.min() > val - .03:\n",
    "            points.append([])\n",
    "            success += 1\n",
    "            #earnings += (val - window.min()) * 1000\n",
    "            earnings += .03 * 1000\n",
    "        else:\n",
    "            change = (data.open.] - val) * 1000\n",
    "            earnings += change\n",
    "\n",
    "    # Buy\n",
    "    elif val > bol_low and pval < pbol_low:\n",
    "        window = data.open[index+pd.DateOffset(minutes=1):index + pd.DateOffset(minutes=15)]\n",
    "        total += 1\n",
    "        if val < window.max() and  window.max() > val + .03:\n",
    "            success += 1\n",
    "            #earnings += (window.max() - val) * 1000\n",
    "            earnings += .03 * 1000\n",
    "        else:\n",
    "            change = (val - data.open.loc[index+pd.DateOffset(minutes=15)]) * 1000\n",
    "            earnings += change\n",
    "            "
   ]
  },
  {
   "cell_type": "code",
   "execution_count": null,
   "metadata": {},
   "outputs": [],
   "source": [
    "print(success, total)\n",
    "print(success/total)\n",
    "print(earnings)"
   ]
  },
  {
   "cell_type": "markdown",
   "metadata": {},
   "source": [
    "# Archive Collection\n",
    "Manually identify some stocks and then create archives for them (as well as a function to update the archives of all important stocks on a daily basis. We'll put this in tb when it's done and then run it at the start of each day)\n"
   ]
  },
  {
   "cell_type": "code",
   "execution_count": null,
   "metadata": {},
   "outputs": [],
   "source": []
  },
  {
   "cell_type": "markdown",
   "metadata": {},
   "source": [
    "# Create Bollinger Effectiveness Rating\n",
    "The BER is a personal technical indicator which determines whether the give stock is effective for the bollinger bands technical indicator. Basically, it asks how many places that the bollinger bands are triggered are then followed by some outcome. A relative BER indicates asks what % of bollinger events then lead to a paired bollinger event, and an absolute BER asks how many events are followed by a profit of .05 cents (or some other value)."
   ]
  },
  {
   "cell_type": "code",
   "execution_count": null,
   "metadata": {},
   "outputs": [],
   "source": [
    "PROFIT_MOD = 2000"
   ]
  },
  {
   "cell_type": "code",
   "execution_count": null,
   "metadata": {},
   "outputs": [],
   "source": [
    "class TradeEvent:\n",
    "    def __init__(self, index:pd.DatetimeIndex, type:int, data:pd.DataFrame, end:pd.DatetimeIndex):\n",
    "        self.index, self.type, self.data, self.end = index, type, data, end\n",
    "        self.value = self.data.loc[self.index].open\n",
    "\n",
    "    def set_window(self, cap:int):\n",
    "        self.window = data[self.index+pd.DateOffset(minutes=1):self.index+pd.DateOffset(minutes=cap)]\n",
    "        if len(self.window) > 0:\n",
    "            self.winmax, self.winmin = self.window.loc[self.window.idxmax().open].open, self.window.loc[self.window.idxmin().open].open\n",
    "            self.cutoff_value = self.window.iloc[-1].open\n",
    "            self.best_possible_profit = (self.winmax - self.value) * PROFIT_MOD if self.type == 1 else (self.value - self.winmin) * PROFIT_MOD\n",
    "            return True\n",
    "        return False\n",
    "\n",
    "    def evaluate_event(self, modifier:float):\n",
    "        '''Evaluates whether the given event is a success or failure and determines the profit that we would get from it'''\n",
    "        if self.type == 1:\n",
    "            if (self.value + modifier) < self.winmax:\n",
    "                self.profit = modifier * PROFIT_MOD\n",
    "                return True\n",
    "            else:\n",
    "                self.profit = (self.cutoff_value - self.value) * PROFIT_MOD\n",
    "                return False\n",
    "        \n",
    "        elif self.type == -1:\n",
    "            if (self.value - modifier) > self.winmin: \n",
    "                self.profit = modifier * PROFIT_MOD\n",
    "                return True\n",
    "            else:\n",
    "                self.profit = (self.value - self.cutoff_value) * PROFIT_MOD\n",
    "                return False\n",
    "\n",
    "    def show(self):\n",
    "        '''Displays the given event'''\n",
    "        plt.title(self.index)\n",
    "        canvas = self.data[self.index - pd.DateOffset(minutes=len(self.window)):self.index + pd.DateOffset(minutes=len(self.window)*2)]\n",
    "        plt.plot(canvas.index, canvas.open, lw=.5, color='blue')\n",
    "        if self.type == 1: plt.axvline(self.index, lw=.5, color='green')\n",
    "        elif self.type == -1: plt.axvline(self.index, lw=.5, color='red')\n",
    "        plt.plot(self.window.index, self.window.open, lw=.75, color='purple')\n",
    "        plt.show()\n",
    "\n",
    "def check_bollinger(data:pd.DataFrame, index:pd.DatetimeIndex, bollinger:pd.DataFrame):\n",
    "    pindex = data.index[index-1]\n",
    "    index = data.index[index]\n",
    "    val, pval, bol, pbol = data.open.loc[index], data.open.loc[pindex], bollinger.loc[index], bollinger.loc[pindex]\n",
    "    if val > bol.lowband and pval < pbol.lowband: return 1\n",
    "    elif val < bol.highband and pval > pbol.highband: return -1\n",
    "    return 0\n",
    "\n",
    "def find_bollinger_events(data:pd.DataFrame, bol_mod:int):\n",
    "    '''Runs through the data and finds bollinger events (separated by day)'''\n",
    "    event_list = []\n",
    "    for day in tb.get_unique_dates(data):\n",
    "        dayta = tk.get_workday(data, day)\n",
    "        bollinger = tb.get_bollinger_bands(dayta.open, num_stds=(bol_mod, 0, -bol_mod))\n",
    "        for i in range(len(dayta.index))[1:]:\n",
    "            bol_key = check_bollinger(dayta, i, bollinger)\n",
    "            if bol_key == 1: event_list.append(TradeEvent(dayta.index[i], 1, data, dayta.index[-1]))\n",
    "            elif bol_key == -1: event_list.append(TradeEvent(dayta.index[i], -1, data, dayta.index[-1]))\n",
    "    return event_list\n",
    "\n",
    "def evaluate_absolute_bollinger(modifier:float, events:list, offset:int):\n",
    "    '''Determines the percentage of bollinger events that have a profit of the modifier with the time of the offset'''\n",
    "    successful_events, failed_events = [], []\n",
    "    for event in events:\n",
    "        if not event.set_window(offset): continue\n",
    "        if event.evaluate_event(modifier): successful_events.append(event)\n",
    "        else: failed_events.append(event)\n",
    "       \n",
    "    return len(successful_events)/(len(successful_events) + len(failed_events)), successful_events, failed_events\n",
    "\n",
    "def evaluate_relative_bollinger(data:pd.DataFrame, bollinger:pd.DataFrame, events:list):\n",
    "    '''Determines the percentage of bollinger events that have a matching pair later in the day'''\n",
    "    successful_events, failed_events = [], []\n",
    "    for event in events:\n",
    "        if search_for_pair(data[event.index:event.end], bollinger, event): successful_events.append(event)\n",
    "        else: failed_events.append(event)\n",
    "    return len(successful_events)/(len(successful_events) + len(failed_events)), successful_events, failed_events\n",
    "\n",
    "def search_for_pair(data:pd.DataFrame, bollinger:pd.DataFrame, event:TradeEvent):\n",
    "    for i in range(len(data.index))[1:]:\n",
    "        index = data.index[i]\n",
    "        if check_bollinger(data, i, bollinger) != event.type:\n",
    "            bol_val = data.open.loc[index]\n",
    "            if event.type == 1:\n",
    "                if bol_val > event.value:\n",
    "                    event.profit = (bol_val-event.value)*PROFIT_MOD\n",
    "                    return True\n",
    "            elif event.type == -1:\n",
    "                if bol_val < event.value:\n",
    "                    event.profit = (event.value-bol_val)*PROFIT_MOD\n",
    "                    return True\n",
    "    if event.type == 1: event.profit = (data.open.loc[event.end]-event.value)*PROFIT_MOD\n",
    "    elif event.type == -1: event.profit = (event.value-data.open.loc[event.end])*PROFIT_MOD\n",
    "    return False"
   ]
  },
  {
   "cell_type": "code",
   "execution_count": null,
   "metadata": {},
   "outputs": [],
   "source": [
    "data = tb.get_archive('CVNA')"
   ]
  },
  {
   "cell_type": "markdown",
   "metadata": {},
   "source": [
    "# GENERATE WINS AND LOSSES"
   ]
  },
  {
   "cell_type": "code",
   "execution_count": null,
   "metadata": {},
   "outputs": [],
   "source": [
    "total_profit = 0\n",
    "# profit analysis\n",
    "bollinger = tb.get_bollinger_bands(data.open, num_stds=(1.5,0,-1.5))\n",
    "rate, wins, losses = evaluate_relative_bollinger(data, bollinger, find_bollinger_events(data, 1.5))\n",
    "print(rate, len(wins), len(losses))\n",
    "\n",
    "for event in wins: total_profit += event.profit\n",
    "#for event in wins: total_profit += event.best_possible_profit\n",
    "for event in losses: total_profit += event.profit\n",
    "print(total_profit, total_profit/len(tb.get_unique_dates(data)))"
   ]
  },
  {
   "cell_type": "code",
   "execution_count": null,
   "metadata": {},
   "outputs": [],
   "source": [
    "count, l = 0, wins\n",
    "for trade in l:\n",
    "    noon = tk.get_midnight(trade.index)+pd.DateOffset(hours=14)\n",
    "    if trade.index > noon: count += 1\n",
    "print(count/len(l))"
   ]
  },
  {
   "cell_type": "code",
   "execution_count": null,
   "metadata": {},
   "outputs": [],
   "source": [
    "# Rapid Acceleration Testing\n",
    "def find_acceleration_events(data:pd.DataFrame):\n",
    "    '''Runs through the data and finds acceleration events (separated by day)'''\n",
    "    event_list = []\n",
    "    for day in tb.get_unique_dates(data):\n",
    "        dayta = tk.get_workday(data, day)\n",
    "        acceleration = dayta.open.ewm(span=30).mean().diff().ewm(span=30).mean().diff()\n",
    "        for index in range(len(dayta.index))[1:]:\n",
    "            pindex = dayta.index[index-1]\n",
    "            index = dayta.index[index]\n",
    "            acc, pacc = acceleration.loc[index], acceleration.loc[pindex]\n",
    "            if acc > 0 and pacc < 0: event_list.append(TradeEvent(index, 1, data))\n",
    "            if acc < 0 and pacc > 0: event_list.append(TradeEvent(index, -1, data))\n",
    "    return event_list\n",
    "\n",
    "def evaluate_absolute_acceleration(modifier:float, events:list, offset:int):\n",
    "    '''Determines the percentage of acceleration events that have a profit of the modifier with the time of the offset'''\n",
    "    successful_events, failed_events = [], []\n",
    "    for event in events:\n",
    "        if not event.set_window(offset): continue\n",
    "        if event.evaluate_event(modifier): successful_events.append(event)\n",
    "        else: failed_events.append(event)\n",
    "       \n",
    "    return len(successful_events)/(len(successful_events) + len(failed_events)), successful_events, failed_events"
   ]
  },
  {
   "cell_type": "code",
   "execution_count": null,
   "metadata": {},
   "outputs": [],
   "source": [
    "rate, wins, losses = evaluate_absolute_acceleration(.02, find_acceleration_events(data), 15)\n",
    "print(rate, len(wins), len(losses))"
   ]
  },
  {
   "cell_type": "code",
   "execution_count": null,
   "metadata": {},
   "outputs": [],
   "source": [
    "# Analyze the Failure States\n",
    "data = tb.get_archive('CVNA')\n",
    "rate, wins, losses = evaluate_absolute_bollinger(.05, find_bollinger_events(data, 1.5), 60)\n",
    "print(rate, len(wins), len(losses))"
   ]
  },
  {
   "cell_type": "code",
   "execution_count": null,
   "metadata": {},
   "outputs": [],
   "source": [
    "total_profit = 0\n",
    "# profit analysis\n",
    "\n",
    "for event in wins: total_profit += event.profit\n",
    "#for event in wins: total_profit += event.best_possible_profit\n",
    "for event in losses: total_profit += event.profit\n",
    "print(total_profit, total_profit/len(tb.get_unique_dates(data)))"
   ]
  },
  {
   "cell_type": "markdown",
   "metadata": {},
   "source": [
    "# MACD ANALYSIS"
   ]
  },
  {
   "cell_type": "code",
   "execution_count": null,
   "metadata": {},
   "outputs": [],
   "source": [
    "upwin, downwin, uploss, downloss = [], [], [], []\n",
    "macd = tb.get_macd(data, 12, 26, 9)\n",
    "\n",
    "def get_macd(event, macd):\n",
    "    return macd.macd_h.loc[event.index]\n",
    "\n",
    "for event in wins:\n",
    "    t = get_macd(event, macd)\n",
    "    if event.type == 1: upwin.append(t)\n",
    "    else: downwin.append(t)\n",
    "for event in losses:\n",
    "    t = get_macd(event, macd)\n",
    "    if event.type == 1: uploss.append(t)\n",
    "    else: downloss.append(t)\n",
    "upwin, downwin, uploss, downloss = np.array(upwin), np.array(downwin), np.array(uploss), np.array(downloss)\n",
    "\n",
    "uploss_threshold = uploss.mean() + uploss.std()*1.5\n",
    "downloss_threshold = downloss.mean() - downloss.std()*1.5\n",
    "print('uploss mean',uploss.mean(), uploss.std())\n",
    "print('downloss mean',downloss.mean(), downloss.std())\n",
    "print(uploss_threshold, downloss_threshold)\n",
    "\n",
    "total_profit, w, l = 0, 0, 0\n",
    "for event in wins:\n",
    "    t = get_macd(event, macd)\n",
    "    if event.type == 1 and t > uploss_threshold: w += event.profit\n",
    "    elif event.type == -1 and t < downloss_threshold: w += event.profit\n",
    "for event in losses:\n",
    "    t = get_macd(event, macd)\n",
    "    if event.type == 1 and t > uploss_threshold: l += event.profit\n",
    "    elif event.type == -1 and t < downloss_threshold: l += event.profit\n",
    "total_profit = w+l\n",
    "print(round(total_profit,2), round(total_profit/len(tb.get_unique_dates(data)),2), '\\n\\tWins:',round(w/len(tb.get_unique_dates(data)),2), '\\n\\tLosses:',round(l/len(tb.get_unique_dates(data)),2),'\\n\\t', round(abs(w/l),2))"
   ]
  },
  {
   "cell_type": "markdown",
   "metadata": {},
   "source": [
    "# TREND ANALYSIS"
   ]
  },
  {
   "cell_type": "code",
   "execution_count": null,
   "metadata": {},
   "outputs": [],
   "source": [
    "def trend_analysis(event:TradeEvent, data:pd.DataFrame):\n",
    "    canvas = data[event.index - pd.DateOffset(minutes=15):event.index]\n",
    "    return tb.get_trend(canvas.open)\n",
    "\n",
    "upwin, downwin, uploss, downloss = [], [], [], []\n",
    "for event in wins:\n",
    "    t = trend_analysis(event, data)\n",
    "    if event.type == 1: upwin.append(t)\n",
    "    else: downwin.append(t)\n",
    "for event in losses:\n",
    "    t = trend_analysis(event, data)\n",
    "    if event.type == 1: uploss.append(t)\n",
    "    else: downloss.append(t)\n",
    "upwin, downwin, uploss, downloss = np.array(upwin), np.array(downwin), np.array(uploss), np.array(downloss)\n",
    "\n",
    "uploss_threshold = uploss.mean()# + uploss.std()\n",
    "downloss_threshold = downloss.mean()# - downloss.std()\n",
    "print('uploss mean',uploss.mean(), uploss.std())\n",
    "print('downloss mean',downloss.mean(), downloss.std())\n",
    "print(uploss_threshold, downloss_threshold)\n",
    "\n",
    "total_profit, w, l = 0, 0, 0\n",
    "for event in wins:\n",
    "    if event.type == 1 and trend_analysis(event, data) > uploss_threshold: w += event.profit\n",
    "    elif event.type == -1 and trend_analysis(event, data) < downloss_threshold: w += event.profit\n",
    "for event in losses:\n",
    "    if event.type == 1 and trend_analysis(event, data) > uploss_threshold: l += event.profit\n",
    "    elif event.type == -1 and trend_analysis(event, data) < downloss_threshold: l += event.profit\n",
    "    total_profit = w+l\n",
    "print(round(total_profit,2), round(total_profit/len(tb.get_unique_dates(data)),2), '\\n\\tWins:',round(w/len(tb.get_unique_dates(data)),2), '\\n\\tLosses:',round(l/len(tb.get_unique_dates(data)),2),'\\n\\t', round(abs(w/l),2))"
   ]
  },
  {
   "cell_type": "markdown",
   "metadata": {},
   "source": [
    "# RSI ANALYSIS"
   ]
  },
  {
   "cell_type": "code",
   "execution_count": null,
   "metadata": {},
   "outputs": [],
   "source": [
    "upwin, downwin, uploss, downloss = [], [], [], []\n",
    "rsi = tb.get_rsi(data, 14)\n",
    "\n",
    "def get_rsi(event, rsi):\n",
    "    return rsi.loc[event.index]\n",
    "\n",
    "for event in wins:\n",
    "    t = get_rsi(event, rsi)\n",
    "    if event.type == 1: upwin.append(t)\n",
    "    else: downwin.append(t)\n",
    "for event in losses:\n",
    "    t = get_rsi(event, rsi)\n",
    "    if event.type == 1: uploss.append(t)\n",
    "    else: downloss.append(t)\n",
    "upwin, downwin, uploss, downloss = np.array(upwin), np.array(downwin), np.array(uploss), np.array(downloss)\n",
    "\n",
    "uploss_threshold = uploss.mean() + uploss.std()*1.5\n",
    "downloss_threshold = downloss.mean() - downloss.std()*1.5\n",
    "print('uploss mean',uploss.mean(), uploss.std())\n",
    "print('downloss mean',downloss.mean(), downloss.std())\n",
    "print(uploss_threshold, downloss_threshold)\n",
    "\n",
    "total_profit, w, l = 0, 0, 0\n",
    "for event in wins:\n",
    "    t = get_rsi(event, rsi)\n",
    "    if event.type == 1 and t > uploss_threshold: w += event.profit\n",
    "    elif event.type == -1 and t < downloss_threshold: w += event.profit\n",
    "for event in losses:\n",
    "    t = get_rsi(event, rsi)\n",
    "    if event.type == 1 and t > uploss_threshold: l += event.profit\n",
    "    elif event.type == -1 and t < downloss_threshold: l += event.profit\n",
    "total_profit = w+l\n",
    "print(round(total_profit,2), round(total_profit/len(tb.get_unique_dates(data)),2), '\\n\\tWins:',round(w/len(tb.get_unique_dates(data)),2), '\\n\\tLosses:',round(l/len(tb.get_unique_dates(data)),2),'\\n\\t', round(abs(w/l),2))"
   ]
  },
  {
   "cell_type": "code",
   "execution_count": null,
   "metadata": {},
   "outputs": [],
   "source": []
  },
  {
   "cell_type": "code",
   "execution_count": null,
   "metadata": {},
   "outputs": [],
   "source": []
  },
  {
   "cell_type": "code",
   "execution_count": null,
   "metadata": {},
   "outputs": [],
   "source": [
    "# Find Success Rates for Our Tracked Stocks\n",
    "for symbol in tb.get_symbols('tracked_tickers.txt'):\n",
    "    print(symbol)\n",
    "    for mod in [1, 1.5, 2]:\n",
    "        data = tb.get_archive(symbol)\n",
    "        rate, mod = evaluate_absolute_bollinger(data, .05, find_bollinger_events(data, mod), 60), str(mod).rjust(3,'0')\n",
    "        print(f'\\tFor bol_mod {mod}: {round(rate,3)}')\n"
   ]
  },
  {
   "cell_type": "code",
   "execution_count": null,
   "metadata": {},
   "outputs": [],
   "source": []
  },
  {
   "cell_type": "markdown",
   "metadata": {},
   "source": [
    "# TREND SELECTION (AGAIN)"
   ]
  },
  {
   "cell_type": "code",
   "execution_count": null,
   "metadata": {},
   "outputs": [],
   "source": [
    "data = tb.get_archive('CVNA')"
   ]
  },
  {
   "cell_type": "code",
   "execution_count": null,
   "metadata": {},
   "outputs": [],
   "source": [
    "# DISPLAY HOUR TREND\n",
    "unit = tb.to_unit(df_hour)\n",
    "plt.figure(dpi=300)\n",
    "plt.plot(unit.index, unit.open, lw=.5)\n",
    "bollinger = tb.get_bollinger_bands(unit.open, 10, num_stds=(2, 0, -2))\n",
    "plt.plot(bollinger.index, bollinger.highband, lw=.25, color='red')\n",
    "plt.plot(bollinger.index, bollinger.moving_average, lw=.25, color='orange')\n",
    "plt.plot(bollinger.index, bollinger.lowband, lw=.25, color='green')\n",
    "for i in range(len(df_hour.index)):\n",
    "    if df_hour.index[i].hour == 10:\n",
    "        plt.axvline(i, color='violet', lw=.25)"
   ]
  },
  {
   "cell_type": "markdown",
   "metadata": {},
   "source": [
    "# Predictions\n",
    "Let's create a new kind of way of looking at things, i.e, let's create a new system of trade signals which will determine whether or not we expect the next span of time will grow or decline."
   ]
  },
  {
   "cell_type": "code",
   "execution_count": null,
   "metadata": {},
   "outputs": [],
   "source": [
    "class TradeSignal:\n",
    "    '''A class meant to monitor large scale trade signal changes to determine whether the immediate future will be characterized by growth, or decline'''\n",
    "    "
   ]
  },
  {
   "cell_type": "code",
   "execution_count": null,
   "metadata": {},
   "outputs": [],
   "source": [
    "#days = tb.get_unique_dates(df_hour)\n",
    "# for day in days:\n",
    "#     dayta = tk.get_workday(data, day)\n",
    "#     for index in dayta.index:\n",
    "#         print(tb.get_index(index, df_hour))\n",
    "df_hour = tb.fractionate_data(data, 30)\n",
    "bollinger_hour = tb.get_bollinger_bands(df_hour.open, 20, num_stds=(2,0,-2))\n",
    "for hour in df_hour.index:\n",
    "    signal = tb.check_bollinger(hour, df_hour, bollinger_hour)\n",
    "    if signal == 1:\n",
    "        window = data[hour:hour+pd.DateOffset(hours=8)]\n",
    "        plt.title(hour)\n",
    "        plt.plot(window.index, window.open, color='green', lw=.5)\n",
    "        plt.show()\n",
    "    elif signal == -1:\n",
    "        window = data[hour:hour+pd.DateOffset(hours=8)]\n",
    "        plt.title(hour)\n",
    "        plt.plot(window.index, window.open, color='red', lw=.5)\n",
    "        plt.show()"
   ]
  },
  {
   "cell_type": "code",
   "execution_count": null,
   "metadata": {},
   "outputs": [],
   "source": []
  },
  {
   "cell_type": "markdown",
   "metadata": {},
   "source": [
    "# MARKET ANALYSIS\n",
    "Moving averages\n",
    "\n",
    "200 day average\n",
    "If it's horrizontal than the price is moving\n",
    "buy signal is 50 day moving average crossing above 200 day moving average and vice versa\n",
    "\n",
    "If the MACD is above zero then the \n",
    "\n",
    "Below 30 RSI means it's oversold, 70 means overbought\n",
    "\n",
    "OBV takes volume information\n",
    "a rising obv should go with a rising price, obv confirms trends."
   ]
  },
  {
   "cell_type": "code",
   "execution_count": null,
   "metadata": {},
   "outputs": [],
   "source": [
    "macd = tb.get_macd(data, 50, 200, 50)\n",
    "tb.to_unit(macd).macd_h.plot.line()"
   ]
  },
  {
   "cell_type": "markdown",
   "metadata": {},
   "source": [
    "# Weirdness Calculator"
   ]
  },
  {
   "cell_type": "code",
   "execution_count": null,
   "metadata": {},
   "outputs": [],
   "source": [
    "days = tb.get_unique_dates(data)"
   ]
  },
  {
   "cell_type": "code",
   "execution_count": null,
   "metadata": {},
   "outputs": [],
   "source": [
    "weird_days = [[9, 11],\n",
    "[9, 14],\n",
    "[9, 15],\n",
    "[9, 19],\n",
    "[9, 20],\n",
    "[9, 21],\n",
    "[9, 28],\n",
    "[10, 2],\n",
    "[10, 6],\n",
    "[10, 9],\n",
    "[10, 11],\n",
    "[10, 16],\n",
    "[10, 18],\n",
    "[10, 23],\n",
    "[11, 7],\n",
    "[11, 9],\n",
    "[11, 21],\n",
    "[11, 29],\n",
    "[12, 1],\n",
    "[12, 6]]"
   ]
  },
  {
   "cell_type": "code",
   "execution_count": null,
   "metadata": {},
   "outputs": [],
   "source": [
    "def get_weirdness_score(index:pd.DatetimeIndex, data:pd.DataFrame):\n",
    "    '''Attempts to measure the weirdness and potential out of controlness of a given day'''\n",
    "    delta = data[:index].open.diff()\n",
    "    pos, neg = delta[delta > 0], delta[delta < 0]\n",
    "    weirdness_score = (pos.mean()/abs(neg.mean()))\n",
    "    if not pd.isna(weirdness_score): return weirdness_score\n",
    "    return 0\n",
    "\n",
    "for day in weird_days:\n",
    "    day = tk.to_time(day[0],day[1])\n",
    "    dayta = tk.get_workday(data, day)\n",
    "    weirdness_total = 0\n",
    "    for index in dayta.index:\n",
    "        weirdness_total += get_weirdness_score(index, dayta)\n",
    "        weirdness_total /= 2\n",
    "    print(weirdness_total)\n",
    "    dayta.open.plot.line()\n",
    "    plt.title(day)\n",
    "    plt.show()"
   ]
  },
  {
   "cell_type": "code",
   "execution_count": null,
   "metadata": {},
   "outputs": [],
   "source": [
    "for day in days:\n",
    "    dayta = tk.get_workday(data, day)\n",
    "    weirdness_total = 0\n",
    "    for index in dayta.index:\n",
    "        weirdness_total += get_weirdness_score(index, dayta)\n",
    "        weirdness_total /= 2\n",
    "    print(weirdness_total)\n",
    "    dayta.open.plot.line()\n",
    "    plt.title(day)\n",
    "    plt.show()\n",
    "\n",
    "# for day in days:\n",
    "#     dayta = tk.get_workday(data, day)\n",
    "#     dayta.open.plot.line()\n",
    "#     plt.title(day)\n",
    "#     plt.show()"
   ]
  },
  {
   "cell_type": "markdown",
   "metadata": {},
   "source": [
    "# Pattern Rec Attempt Two"
   ]
  },
  {
   "cell_type": "code",
   "execution_count": null,
   "metadata": {},
   "outputs": [],
   "source": [
    "data = tb.get_data('CVNA', '5m','30d')\n",
    "seed = data[tk.to_time(12,29):tk.to_time(12,30)]\n",
    "p = Pattern(seed, data)"
   ]
  },
  {
   "cell_type": "code",
   "execution_count": null,
   "metadata": {},
   "outputs": [],
   "source": [
    "seed.open.plot.line()"
   ]
  },
  {
   "cell_type": "code",
   "execution_count": null,
   "metadata": {},
   "outputs": [],
   "source": [
    "trend = round(tb.get_trend(seed.open),2)\n",
    "for day in tb.get_unique_dates(data):\n",
    "    dayta = tk.get_workday(data, day)\n",
    "    day_trend = round(tb.get_trend(dayta[:27].open),2)\n",
    "    if day_trend -.2 < trend and day_trend + .2 > trend:\n",
    "        dayta[:27].open.plot.line()\n",
    "        dayta[26:].open.plot.line()\n",
    "        plt.title(day)\n",
    "        plt.show()\n"
   ]
  },
  {
   "cell_type": "code",
   "execution_count": null,
   "metadata": {},
   "outputs": [],
   "source": [
    "class Pattern:\n",
    "    def __init__(self, seed:pd.DataFrame, data:pd.DataFrame):\n",
    "        self.seed, self.data = seed, data\n",
    "        self.pattern = self.process_seed(seed)\n",
    "        self.recognize_pattern(self.pattern, data)\n",
    "    \n",
    "    def process_seed(self, seed:pd.DataFrame):\n",
    "        '''Processes the seed into a normalized, smoothed pattern line'''\n",
    "        pattern = seed.open.ewm(span=5).mean(); pattern = tb.normalize_column(pattern, True)\n",
    "        return pattern\n",
    "\n",
    "    def recognize_pattern(self, pattern:pd.DataFrame, data:pd.DataFrame):\n",
    "        '''Trawls through the data looking for a pattern that matches the seed'''\n",
    "        forecast = 0\n",
    "        for i in range(0, len(data.index)-len(pattern)*2, 30):\n",
    "            if data.index[i] in self.seed.index: continue\n",
    "            segment = self.process_seed(data.iloc[i:i+len(pattern)])\n",
    "            differential = abs(pattern - segment).sum()/len(pattern)\n",
    "            if differential < .30:\n",
    "                prediction = data.iloc[i+len(pattern):i+len(pattern)*2]\n",
    "                upred = tb.normalize_column(prediction, True)\n",
    "                forecast += tb.get_trend(upred.open)\n",
    "        self.forecast = forecast\n",
    "\n",
    "    def plot_pattern(self):\n",
    "        '''Plots the pattern and any recognized patterns on the initial data'''"
   ]
  },
  {
   "cell_type": "code",
   "execution_count": null,
   "metadata": {},
   "outputs": [],
   "source": [
    "data = tb.get_data('CVNA', '5m','60d')"
   ]
  },
  {
   "cell_type": "code",
   "execution_count": null,
   "metadata": {},
   "outputs": [],
   "source": [
    "total, good = 0, 0\n",
    "for date in tb.get_unique_dates(data)[6:]:\n",
    "    seed = data[date-pd.DateOffset(hours=18):date]\n",
    "    if len(seed) == 0: seed = data[date-pd.DateOffset(days=3):date]\n",
    "    p = Pattern(seed, data[:date])\n",
    "    day_performance = tb.get_trend(data[date:date+pd.DateOffset(days=1)].open)\n",
    "    total += 1\n",
    "    if p.forecast < 0 and day_performance < 0: good += 1\n",
    "    elif p.forecast > 0 and day_performance > 0: good += 1\n",
    "    print(date, p.forecast, day_performance)\n",
    "print(good/total)"
   ]
  },
  {
   "cell_type": "code",
   "execution_count": null,
   "metadata": {},
   "outputs": [],
   "source": [
    "seed.open.plot.line()"
   ]
  },
  {
   "cell_type": "code",
   "execution_count": null,
   "metadata": {},
   "outputs": [],
   "source": [
    "data = tb.get_data('CVNA', '1d', '6mo')"
   ]
  },
  {
   "cell_type": "code",
   "execution_count": null,
   "metadata": {},
   "outputs": [],
   "source": [
    "lookback = 1"
   ]
  },
  {
   "cell_type": "code",
   "execution_count": null,
   "metadata": {},
   "outputs": [],
   "source": [
    "\n",
    "#plt.figure(dpi=300)\n",
    "#plt.plot(delta.index, delta, lw=.5)\n",
    "#plt.axhline(0, color='red',lw=.5)\n",
    "def get_delta(data, ser, date):\n",
    "    delta = ser - data.open\n",
    "    d_i = tb.get_i(date, data)\n",
    "    subdelta = delta.iloc[d_i-lookback:d_i]\n",
    "    subdiff = subdelta.diff().mean()\n",
    "    return subdelta.mean() + subdiff"
   ]
  },
  {
   "cell_type": "code",
   "execution_count": null,
   "metadata": {},
   "outputs": [],
   "source": [
    "total_diff = 0\n",
    "for date in data.index[lookback:]:\n",
    "    plow = get_delta(data, data.low, date)\n",
    "    phigh = get_delta(data, data.high, date)\n",
    "    day = data.loc[date]\n",
    "    print(date)\n",
    "    print('\\tLOW PREDICTION:',round(day.low,2), '\\t',round(day.open + plow,2),'\\t', round(day.low - (day.open + plow),2))\n",
    "    print('\\tHIGH PREDICTION:',round(day.high,2), '\\t',round(day.open + phigh,2),'\\t', round(day.high - (day.open + phigh),2))\n",
    "    total_diff += abs(day.low - (day.open + plow)) + abs(day.high - (day.open + phigh))\n",
    "print(total_diff/len(data.index[lookback:]))"
   ]
  },
  {
   "cell_type": "markdown",
   "metadata": {},
   "source": [
    "# Multi Bollinger Test"
   ]
  },
  {
   "cell_type": "code",
   "execution_count": null,
   "metadata": {},
   "outputs": [],
   "source": [
    "hdata = tb.get_data('CVNA','1h','7d')\n",
    "tdata = tb.get_data('CVNA','30m','7d')\n",
    "fdata = tb.get_data('CVNA','5m','7d')\n",
    "data = tb.get_archive('CVNA')[fdata.index[0]:]\n",
    "# hdata = data.ewm(span=60).mean()\n",
    "# tdata = data.ewm(span=30).mean()\n",
    "# fdata = data.ewm(span=5).mean()\n",
    "\n",
    "bol_dev = 1\n",
    "\n",
    "hbol = tb.get_bollinger_bands(hdata.open, num_stds=(bol_dev,0,-bol_dev))\n",
    "tbol = tb.get_bollinger_bands(tdata.open, num_stds=(bol_dev,0,-bol_dev))\n",
    "fbol = tb.get_bollinger_bands(fdata.open, num_stds=(bol_dev,0,-bol_dev))\n",
    "bol = tb.get_bollinger_bands(data.open, num_stds=(bol_dev,0,-bol_dev))"
   ]
  },
  {
   "cell_type": "code",
   "execution_count": null,
   "metadata": {},
   "outputs": [],
   "source": [
    "switchbox = [0,0,0]\n",
    "signal_list = []\n",
    "# Search Hours for Bollinger Signal\n",
    "start_hour = 0\n",
    "for hi in range(len(hdata[:tk.to_time(12,29)])):\n",
    "    hour_sig = tb.check_bollinger(hi, hdata, hbol)\n",
    "    if hour_sig != 0: start_hour = hi; break\n",
    "if start_hour == 0:\n",
    "    # Look back farther in history\n",
    "    print('Hour signal not found')\n",
    "for i in range(len(data[:tk.to_time(12,29)]))[start_hour*60:]:\n",
    "    hi, ti, fi = int(i/60), int(i/30), int(i/5)\n",
    "\n",
    "    hour_sig = tb.check_bollinger(hi, hdata, hbol)\n",
    "    thirt_sig = tb.check_bollinger(ti, tdata, tbol)\n",
    "    five_sig = tb.check_bollinger(fi, fdata, fbol)\n",
    "\n",
    "    if hour_sig == 1: switchbox[0] = 1\n",
    "    elif hour_sig == -1: switchbox[0] = -1\n",
    "    if five_sig == 1: switchbox[1] = 1\n",
    "    elif five_sig == -1: switchbox[1] = -1\n",
    "    if thirt_sig == 1: switchbox[2] = 1\n",
    "    elif thirt_sig == -1: switchbox[2] = -1\n",
    "    \n",
    "    signal = switchbox[0] + switchbox[1] + switchbox[2]\n",
    "    signal_list.append({'ind':i,'signal':signal})\n",
    "signal_list = pd.DataFrame(signal_list)"
   ]
  },
  {
   "cell_type": "code",
   "execution_count": null,
   "metadata": {},
   "outputs": [],
   "source": [
    "switchbox = [0,0,0]\n",
    "signal_list = []\n",
    "for index in data.index:\n",
    "    hindex = tb.get_index(index, hdata)\n",
    "    tindex = tb.get_index(index, tdata)\n",
    "    findex = tb.get_index(index, fdata)\n",
    "\n",
    "    hour_sig = tb.check_bollinger(hindex, hdata, hbol)\n",
    "    thirt_sig = tb.check_bollinger(tindex, tdata, tbol)\n",
    "    five_sig = tb.check_bollinger(findex, fdata, fbol)\n",
    "\n",
    "    if hour_sig == 1: switchbox[0] = 1\n",
    "    elif hour_sig == -1: switchbox[0] = -1\n",
    "    if five_sig == 1: switchbox[1] = 1\n",
    "    elif five_sig == -1: switchbox[1] = -1\n",
    "    if thirt_sig == 1: switchbox[2] = 1\n",
    "    elif thirt_sig == -1: switchbox[2] = -1\n",
    "\n",
    "    signal = switchbox[0] + switchbox[1] + switchbox[2]\n",
    "    signal_list.append({'ind':index,'signal':signal})\n",
    "#tb.check_bollinger(index, hdata, hbol)"
   ]
  },
  {
   "cell_type": "code",
   "execution_count": null,
   "metadata": {},
   "outputs": [],
   "source": [
    "signals = pd.DataFrame(signal_list)\n",
    "signals.set_index('ind', inplace=True)"
   ]
  },
  {
   "cell_type": "code",
   "execution_count": null,
   "metadata": {},
   "outputs": [],
   "source": [
    "for day in tb.get_unique_dates(hdata)[5:]:\n",
    "    dayta = tk.get_workday(data, day).open\n",
    "    daybol = tk.get_workday(bol, day)\n",
    "    plt.figure(dpi=150)\n",
    "    plt.plot(dayta.index, dayta, lw=.5)\n",
    "    plt.plot(daybol.index, daybol.highband, color='red', lw=.5)\n",
    "    plt.plot(daybol.index, daybol.lowband, color='green', lw=.5)\n",
    "    plt.title(day)\n",
    "    for index in dayta.index:\n",
    "        sig = signals.signal.loc[tb.get_i(index, data)]\n",
    "        if sig > 0: plt.axvline(index, color='green', alpha=.25, lw=.5)\n",
    "        if sig < 0: plt.axvline(index, color='red', alpha=.25, lw=.5)\n",
    "    plt.show()"
   ]
  },
  {
   "cell_type": "markdown",
   "metadata": {},
   "source": [
    "# Second Attempt\n",
    "Ok, here goes our next attempt at making moneybot work. I suppose in a way this is v four isn't it? Oof, that hurts, but it is what it is. So how will this work. We're going to try to buy and sell every two seconds. Basically the moment we have something in our account we're going to start listing it for a small profit. We do this every second we're pretty sure things are going one way (like if we think that it's going to go down in the absolute near future). We should still be able to test this by using the interminute highs and lows."
   ]
  },
  {
   "cell_type": "code",
   "execution_count": null,
   "metadata": {},
   "outputs": [],
   "source": [
    "archive = tb.get_archive('cvna')\n",
    "df = archive[tk.to_time(1,12):]"
   ]
  },
  {
   "cell_type": "code",
   "execution_count": null,
   "metadata": {},
   "outputs": [],
   "source": [
    "oplo = df.low-df.open\n",
    "ophi = df.high-df.open\n",
    "print('oplo', oplo)\n",
    "oplo.plot.line()\n",
    "plt.axhline(0, color='red', lw=.5)\n",
    "plt.show()\n",
    "print('ophi', df.high-df.open)\n",
    "ophi.plot.line()\n",
    "plt.axhline(0, color='red', lw=.5)"
   ]
  },
  {
   "cell_type": "code",
   "execution_count": null,
   "metadata": {},
   "outputs": [],
   "source": [
    "mi = oplo[oplo < 0].max()\n",
    "ma = ophi[ophi > 0].min()"
   ]
  },
  {
   "cell_type": "code",
   "execution_count": null,
   "metadata": {},
   "outputs": [],
   "source": [
    "total = len(df.index) * .01 * 1000\n",
    "#for index in df.index\n",
    "print(total)"
   ]
  },
  {
   "cell_type": "code",
   "execution_count": null,
   "metadata": {},
   "outputs": [],
   "source": []
  }
 ],
 "metadata": {
  "kernelspec": {
   "display_name": "Python 3",
   "language": "python",
   "name": "python3"
  },
  "language_info": {
   "codemirror_mode": {
    "name": "ipython",
    "version": 3
   },
   "file_extension": ".py",
   "mimetype": "text/x-python",
   "name": "python",
   "nbconvert_exporter": "python",
   "pygments_lexer": "ipython3",
   "version": "3.10.12"
  }
 },
 "nbformat": 4,
 "nbformat_minor": 2
}
