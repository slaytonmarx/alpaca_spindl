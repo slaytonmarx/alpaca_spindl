{
 "cells": [
  {
   "cell_type": "code",
   "execution_count": 1,
   "metadata": {},
   "outputs": [],
   "source": [
    "%load_ext autoreload\n",
    "%autoreload 2\n",
    "\n",
    "import alpaca_trade_api\n",
    "import lib.Broker as Broker\n",
    "import asyncio\n",
    "import lib.TimeKeeper as tk\n",
    "import datetime\n",
    "import pytz\n",
    "import Toolbox as tb\n",
    "from alpaca_trade_api.common import URL\n",
    "from alpaca_trade_api.stream import Stream\n",
    "import pandas as pd\n",
    "import nest_asyncio\n",
    "nest_asyncio.apply()\n",
    "%autoawait asyncio"
   ]
  },
  {
   "cell_type": "code",
   "execution_count": 58,
   "metadata": {},
   "outputs": [
    {
     "data": {
      "text/html": [
       "<div>\n",
       "<style scoped>\n",
       "    .dataframe tbody tr th:only-of-type {\n",
       "        vertical-align: middle;\n",
       "    }\n",
       "\n",
       "    .dataframe tbody tr th {\n",
       "        vertical-align: top;\n",
       "    }\n",
       "\n",
       "    .dataframe thead th {\n",
       "        text-align: right;\n",
       "    }\n",
       "</style>\n",
       "<table border=\"1\" class=\"dataframe\">\n",
       "  <thead>\n",
       "    <tr style=\"text-align: right;\">\n",
       "      <th></th>\n",
       "      <th>open</th>\n",
       "      <th>high</th>\n",
       "      <th>low</th>\n",
       "      <th>close</th>\n",
       "      <th>volume</th>\n",
       "      <th>dividends</th>\n",
       "      <th>stock splits</th>\n",
       "    </tr>\n",
       "    <tr>\n",
       "      <th>Datetime</th>\n",
       "      <th></th>\n",
       "      <th></th>\n",
       "      <th></th>\n",
       "      <th></th>\n",
       "      <th></th>\n",
       "      <th></th>\n",
       "      <th></th>\n",
       "    </tr>\n",
       "  </thead>\n",
       "  <tbody>\n",
       "    <tr>\n",
       "      <th>2024-03-20 09:30:00-04:00</th>\n",
       "      <td>898.900024</td>\n",
       "      <td>902.369873</td>\n",
       "      <td>894.260071</td>\n",
       "      <td>900.681824</td>\n",
       "      <td>1833664</td>\n",
       "      <td>0.0</td>\n",
       "      <td>0.0</td>\n",
       "    </tr>\n",
       "    <tr>\n",
       "      <th>2024-03-20 09:31:00-04:00</th>\n",
       "      <td>900.599976</td>\n",
       "      <td>903.219971</td>\n",
       "      <td>896.969971</td>\n",
       "      <td>903.219971</td>\n",
       "      <td>346208</td>\n",
       "      <td>0.0</td>\n",
       "      <td>0.0</td>\n",
       "    </tr>\n",
       "    <tr>\n",
       "      <th>2024-03-20 09:32:00-04:00</th>\n",
       "      <td>903.219971</td>\n",
       "      <td>904.099976</td>\n",
       "      <td>899.506226</td>\n",
       "      <td>900.999878</td>\n",
       "      <td>305957</td>\n",
       "      <td>0.0</td>\n",
       "      <td>0.0</td>\n",
       "    </tr>\n",
       "    <tr>\n",
       "      <th>2024-03-20 09:33:00-04:00</th>\n",
       "      <td>900.715027</td>\n",
       "      <td>901.399902</td>\n",
       "      <td>897.840027</td>\n",
       "      <td>900.950012</td>\n",
       "      <td>242337</td>\n",
       "      <td>0.0</td>\n",
       "      <td>0.0</td>\n",
       "    </tr>\n",
       "    <tr>\n",
       "      <th>2024-03-20 09:34:00-04:00</th>\n",
       "      <td>900.833923</td>\n",
       "      <td>902.700012</td>\n",
       "      <td>898.030090</td>\n",
       "      <td>899.109985</td>\n",
       "      <td>254816</td>\n",
       "      <td>0.0</td>\n",
       "      <td>0.0</td>\n",
       "    </tr>\n",
       "    <tr>\n",
       "      <th>...</th>\n",
       "      <td>...</td>\n",
       "      <td>...</td>\n",
       "      <td>...</td>\n",
       "      <td>...</td>\n",
       "      <td>...</td>\n",
       "      <td>...</td>\n",
       "      <td>...</td>\n",
       "    </tr>\n",
       "    <tr>\n",
       "      <th>2024-03-20 14:07:00-04:00</th>\n",
       "      <td>897.229980</td>\n",
       "      <td>897.809998</td>\n",
       "      <td>891.380005</td>\n",
       "      <td>891.380005</td>\n",
       "      <td>248700</td>\n",
       "      <td>0.0</td>\n",
       "      <td>0.0</td>\n",
       "    </tr>\n",
       "    <tr>\n",
       "      <th>2024-03-20 14:08:00-04:00</th>\n",
       "      <td>891.541809</td>\n",
       "      <td>894.719971</td>\n",
       "      <td>891.541809</td>\n",
       "      <td>894.287903</td>\n",
       "      <td>212418</td>\n",
       "      <td>0.0</td>\n",
       "      <td>0.0</td>\n",
       "    </tr>\n",
       "    <tr>\n",
       "      <th>2024-03-20 14:09:00-04:00</th>\n",
       "      <td>894.354980</td>\n",
       "      <td>895.189880</td>\n",
       "      <td>890.570007</td>\n",
       "      <td>891.443115</td>\n",
       "      <td>175324</td>\n",
       "      <td>0.0</td>\n",
       "      <td>0.0</td>\n",
       "    </tr>\n",
       "    <tr>\n",
       "      <th>2024-03-20 14:10:00-04:00</th>\n",
       "      <td>891.723999</td>\n",
       "      <td>894.260010</td>\n",
       "      <td>891.723999</td>\n",
       "      <td>894.054993</td>\n",
       "      <td>139157</td>\n",
       "      <td>0.0</td>\n",
       "      <td>0.0</td>\n",
       "    </tr>\n",
       "    <tr>\n",
       "      <th>2024-03-20 14:11:00-04:00</th>\n",
       "      <td>895.664307</td>\n",
       "      <td>895.664307</td>\n",
       "      <td>895.664307</td>\n",
       "      <td>895.664307</td>\n",
       "      <td>0</td>\n",
       "      <td>0.0</td>\n",
       "      <td>0.0</td>\n",
       "    </tr>\n",
       "  </tbody>\n",
       "</table>\n",
       "<p>282 rows × 7 columns</p>\n",
       "</div>"
      ],
      "text/plain": [
       "                                 open        high         low       close  \\\n",
       "Datetime                                                                    \n",
       "2024-03-20 09:30:00-04:00  898.900024  902.369873  894.260071  900.681824   \n",
       "2024-03-20 09:31:00-04:00  900.599976  903.219971  896.969971  903.219971   \n",
       "2024-03-20 09:32:00-04:00  903.219971  904.099976  899.506226  900.999878   \n",
       "2024-03-20 09:33:00-04:00  900.715027  901.399902  897.840027  900.950012   \n",
       "2024-03-20 09:34:00-04:00  900.833923  902.700012  898.030090  899.109985   \n",
       "...                               ...         ...         ...         ...   \n",
       "2024-03-20 14:07:00-04:00  897.229980  897.809998  891.380005  891.380005   \n",
       "2024-03-20 14:08:00-04:00  891.541809  894.719971  891.541809  894.287903   \n",
       "2024-03-20 14:09:00-04:00  894.354980  895.189880  890.570007  891.443115   \n",
       "2024-03-20 14:10:00-04:00  891.723999  894.260010  891.723999  894.054993   \n",
       "2024-03-20 14:11:00-04:00  895.664307  895.664307  895.664307  895.664307   \n",
       "\n",
       "                            volume  dividends  stock splits  \n",
       "Datetime                                                     \n",
       "2024-03-20 09:30:00-04:00  1833664        0.0           0.0  \n",
       "2024-03-20 09:31:00-04:00   346208        0.0           0.0  \n",
       "2024-03-20 09:32:00-04:00   305957        0.0           0.0  \n",
       "2024-03-20 09:33:00-04:00   242337        0.0           0.0  \n",
       "2024-03-20 09:34:00-04:00   254816        0.0           0.0  \n",
       "...                            ...        ...           ...  \n",
       "2024-03-20 14:07:00-04:00   248700        0.0           0.0  \n",
       "2024-03-20 14:08:00-04:00   212418        0.0           0.0  \n",
       "2024-03-20 14:09:00-04:00   175324        0.0           0.0  \n",
       "2024-03-20 14:10:00-04:00   139157        0.0           0.0  \n",
       "2024-03-20 14:11:00-04:00        0        0.0           0.0  \n",
       "\n",
       "[282 rows x 7 columns]"
      ]
     },
     "execution_count": 58,
     "metadata": {},
     "output_type": "execute_result"
    }
   ],
   "source": [
    "tb.get_data('NVDA', '1m', '1d')"
   ]
  },
  {
   "cell_type": "code",
   "execution_count": 38,
   "metadata": {},
   "outputs": [
    {
     "name": "stdout",
     "output_type": "stream",
     "text": [
      "Activating with Paper\n",
      "                              close      high       low  trade_count  \\\n",
      "timestamp                                                              \n",
      "2024-03-20 04:00:00-04:00  892.0000  894.1000  890.2200          162   \n",
      "2024-03-20 04:01:00-04:00  891.8000  892.1300  891.0100          130   \n",
      "2024-03-20 04:02:00-04:00  891.8000  891.8000  891.8000           85   \n",
      "2024-03-20 04:03:00-04:00  892.0000  892.0000  892.0000          103   \n",
      "2024-03-20 04:04:00-04:00  893.5000  893.5000  893.5000          106   \n",
      "...                             ...       ...       ...          ...   \n",
      "2024-03-20 14:01:00-04:00  896.5765  897.4499  891.2000         8002   \n",
      "2024-03-20 14:02:00-04:00  893.2450  898.0000  892.6801         5766   \n",
      "2024-03-20 14:03:00-04:00  895.5800  895.7700  892.2200         3417   \n",
      "2024-03-20 14:04:00-04:00  896.1100  896.8000  894.0000         3638   \n",
      "2024-03-20 14:05:00-04:00  897.9699  898.9000  896.0000         5620   \n",
      "\n",
      "                               open  volume        vwap  \n",
      "timestamp                                                \n",
      "2024-03-20 04:00:00-04:00  890.2200    3105  892.432576  \n",
      "2024-03-20 04:01:00-04:00  892.1300    2737  891.714662  \n",
      "2024-03-20 04:02:00-04:00  891.8000    1076  891.639935  \n",
      "2024-03-20 04:03:00-04:00  892.0000    2194  892.531955  \n",
      "2024-03-20 04:04:00-04:00  893.5000    1786  893.364149  \n",
      "...                             ...     ...         ...  \n",
      "2024-03-20 14:01:00-04:00  891.2000  524901  895.055832  \n",
      "2024-03-20 14:02:00-04:00  896.5700  336453  895.561841  \n",
      "2024-03-20 14:03:00-04:00  893.2450  195166  893.933935  \n",
      "2024-03-20 14:04:00-04:00  895.7799  216247  895.586182  \n",
      "2024-03-20 14:05:00-04:00  896.3600  342169  897.774322  \n",
      "\n",
      "[504 rows x 7 columns]\n"
     ]
    }
   ],
   "source": [
    "api = Broker.paper_api()\n",
    "#print(dir(alpaca_trade_api.TimeFrame.Minute))\n",
    "s = tk.to_time(3,19,13,12)\n",
    "e = tk.to_time(3,19,13,13)\n",
    "df = api.get_bars('NVDA', alpaca_trade_api.TimeFrame.Minute).df#, start=s, end=e).df\n",
    "df.index = df.index.tz_convert(pytz.timezone('US/Eastern'))\n",
    "print(df)"
   ]
  },
  {
   "cell_type": "markdown",
   "metadata": {},
   "source": [
    "# Things We Must Do\n",
    "1. Implement Async into Trader\n",
    "2. Figure out how to get bars up to date\n",
    "3. Implement async"
   ]
  },
  {
   "cell_type": "markdown",
   "metadata": {},
   "source": []
  },
  {
   "cell_type": "code",
   "execution_count": null,
   "metadata": {},
   "outputs": [],
   "source": [
    "from alpaca_trade_api.rest import REST, TimeFrame\n",
    "import lib.Broker as Broker\n",
    "api = Broker.live_api()\n",
    "#\n",
    "#api.get_bars(\"NVDA\", TimeFrame.Minute, asof='2024-03-20', adjustment='raw').df\n",
    "#api.get_latest_bars(['AMZN','NVDA'])\n",
    "#print(api.get_latest_bar('AMZN'))"
   ]
  },
  {
   "cell_type": "code",
   "execution_count": 70,
   "metadata": {},
   "outputs": [
    {
     "name": "stdout",
     "output_type": "stream",
     "text": [
      "                            close    high      low  trade_count     open  \\\n",
      "timestamp                                                                  \n",
      "2024-03-20 08:01:00+00:00  175.77  175.77  175.770           35  175.770   \n",
      "2024-03-20 08:04:00+00:00  175.57  175.57  175.570           10  175.570   \n",
      "2024-03-20 08:07:00+00:00  175.62  175.62  175.620           15  175.620   \n",
      "2024-03-20 08:13:00+00:00  175.57  175.57  175.570            5  175.570   \n",
      "2024-03-20 08:17:00+00:00  175.62  175.62  175.620           13  175.620   \n",
      "...                           ...     ...      ...          ...      ...   \n",
      "2024-03-20 13:25:00+00:00  176.00  176.00  175.840           62  175.840   \n",
      "2024-03-20 13:26:00+00:00  176.02  176.07  176.010           47  176.030   \n",
      "2024-03-20 13:27:00+00:00  176.13  176.13  176.063           70  176.063   \n",
      "2024-03-20 13:28:00+00:00  176.19  176.19  176.100           59  176.100   \n",
      "2024-03-20 13:29:00+00:00  176.13  176.13  176.110           58  176.110   \n",
      "\n",
      "                           volume        vwap symbol  \n",
      "timestamp                                             \n",
      "2024-03-20 08:01:00+00:00     712  175.595070   AMZN  \n",
      "2024-03-20 08:04:00+00:00     257  175.516732   AMZN  \n",
      "2024-03-20 08:07:00+00:00     448  175.521384   AMZN  \n",
      "2024-03-20 08:13:00+00:00     288  175.565347   AMZN  \n",
      "2024-03-20 08:17:00+00:00     407  175.631057   AMZN  \n",
      "...                           ...         ...    ...  \n",
      "2024-03-20 13:25:00+00:00    1919  175.989270   AMZN  \n",
      "2024-03-20 13:26:00+00:00    1776  176.031289   AMZN  \n",
      "2024-03-20 13:27:00+00:00    6655  176.097421   AMZN  \n",
      "2024-03-20 13:28:00+00:00    1904  176.144694   AMZN  \n",
      "2024-03-20 13:29:00+00:00    1196  176.156238   AMZN  \n",
      "\n",
      "[102 rows x 8 columns]\n"
     ]
    }
   ],
   "source": [
    "bars = api.get_bars(['AMZN'], TimeFrame.Minute, feed='sip').df\n",
    "print(bars.sort_index())"
   ]
  },
  {
   "cell_type": "markdown",
   "metadata": {},
   "source": [
    "# What Must we Learn Here?\n",
    "We must learn how this async stream library works:\n",
    "1. We must learn whether or not the information it gives is credible\n",
    "2. We must learn whether the information it gives matches up with the bars\n",
    "3. We must implement it so that we can use it to trade\n",
    "\n",
    "\n",
    "Before we had a time based approach, now we must move to an event based approach. The bars will mean that it's almost a time based approach, so for example, we might say \"if bar's timestamp is after 3:50, cashout\" but for the most part we need to reframe everything around event calls"
   ]
  },
  {
   "cell_type": "code",
   "execution_count": null,
   "metadata": {},
   "outputs": [],
   "source": [
    "api.get_bars('NVDA', alpaca_trade_api.TimeFrame.Minute).df"
   ]
  },
  {
   "cell_type": "code",
   "execution_count": 3,
   "metadata": {},
   "outputs": [
    {
     "name": "stdout",
     "output_type": "stream",
     "text": [
      "2024-03-20 15:16:00-04:00 IS THE TIME\n",
      "                              close      high       low  trade_count    open  \\\n",
      "timestamp                                                                      \n",
      "2024-03-20 08:00:00+00:00  892.0000  894.1000  890.2200          162  890.22   \n",
      "2024-03-20 08:01:00+00:00  891.8000  892.1300  891.0100          130  892.13   \n",
      "2024-03-20 08:02:00+00:00  891.8000  891.8000  891.8000           85  891.80   \n",
      "2024-03-20 08:03:00+00:00  892.0000  892.0000  892.0000          103  892.00   \n",
      "2024-03-20 08:04:00+00:00  893.5000  893.5000  893.5000          106  893.50   \n",
      "...                             ...       ...       ...          ...     ...   \n",
      "2024-03-20 19:11:00+00:00  899.0199  901.0000  898.7064         2290  900.25   \n",
      "2024-03-20 19:12:00+00:00  898.4992  899.5499  898.0201         2241  898.59   \n",
      "2024-03-20 19:13:00+00:00  898.2750  899.1400  898.0000         2880  898.27   \n",
      "2024-03-20 19:14:00+00:00  898.8849  899.5900  898.0000         2048  898.29   \n",
      "2024-03-20 19:15:00+00:00  899.8378  900.1400  898.5100         1752  898.90   \n",
      "\n",
      "                           volume        vwap  \n",
      "timestamp                                      \n",
      "2024-03-20 08:00:00+00:00    3105  892.432576  \n",
      "2024-03-20 08:01:00+00:00    2737  891.714662  \n",
      "2024-03-20 08:02:00+00:00    1076  891.639935  \n",
      "2024-03-20 08:03:00+00:00    2194  892.531955  \n",
      "2024-03-20 08:04:00+00:00    1786  893.364149  \n",
      "...                           ...         ...  \n",
      "2024-03-20 19:11:00+00:00  126889  899.919305  \n",
      "2024-03-20 19:12:00+00:00  144531  898.702408  \n",
      "2024-03-20 19:13:00+00:00  169594  898.323842  \n",
      "2024-03-20 19:14:00+00:00   92073  898.668670  \n",
      "2024-03-20 19:15:00+00:00   91919  899.458697  \n",
      "\n",
      "[574 rows x 7 columns]\n",
      "bar 2024-03-20 15:15:00-04:00\n",
      "keyboard interrupt, bye\n"
     ]
    }
   ],
   "source": [
    "import nest_asyncio\n",
    "nest_asyncio.apply()\n",
    "\n",
    "# async def trade_callback(t):\n",
    "#     '''\n",
    "#         for ticker in self.tickers:\n",
    "#             ticker.record_trade(t)\n",
    "#     '''\n",
    "#     print('trade', t)\n",
    "\n",
    "async def bar_callback(b):\n",
    "    data.append(b)\n",
    "    print(tk.now(),'IS THE TIME')\n",
    "    '''\n",
    "        For ticker in self.tickers:\n",
    "            ticker.trade_command(b)\n",
    "    \n",
    "    '''\n",
    "    print(api.get_bars('NVDA', alpaca_trade_api.TimeFrame.Minute).df)\n",
    "    print('bar', pd.to_datetime(b.timestamp).tz_localize(pytz.UTC).tz_convert(pytz.timezone('US/Eastern')))\n",
    "\n",
    "# stream.subscribe_trades(trade_callback, 'NVDA')\n",
    "stream.subscribe_bars(bar_callback, 'NVDA')\n",
    "stream.run()"
   ]
  },
  {
   "cell_type": "code",
   "execution_count": 23,
   "metadata": {},
   "outputs": [
    {
     "data": {
      "text/plain": [
       "Timestamp('2024-03-20 14:23:00-0400', tz='America/New_York')"
      ]
     },
     "execution_count": 23,
     "metadata": {},
     "output_type": "execute_result"
    }
   ],
   "source": [
    "import datetime\n",
    "pd.to_datetime(data[0].timestamp).tz_localize(pytz.UTC).tz_convert(pytz.timezone('America/New_York'))\n",
    "#print(data[0].timestamp)\n",
    "#print(pd.to_datetime(int(data[0].timestamp), utc=True, unit='ms'))\n",
    "#datetime.datetime.fromtimestamp(data[0].timestamp, tz=pytz.UTC)"
   ]
  },
  {
   "cell_type": "code",
   "execution_count": null,
   "metadata": {},
   "outputs": [],
   "source": [
    "stream.on_bar('NVDA')"
   ]
  },
  {
   "cell_type": "code",
   "execution_count": null,
   "metadata": {},
   "outputs": [],
   "source": [
    "stream.stop()"
   ]
  },
  {
   "cell_type": "code",
   "execution_count": null,
   "metadata": {},
   "outputs": [],
   "source": [
    "data"
   ]
  },
  {
   "cell_type": "code",
   "execution_count": null,
   "metadata": {},
   "outputs": [],
   "source": [
    "simplified_data = []\n",
    "for d in data:\n",
    "    simplified_data.append({'index':d['index'], 'price':d['trade'].price, 'size':d['trade'].size, 'timestamp':d['trade'].timestamp, 'symbol':d['trade'].symbol})\n",
    "df = pd.DataFrame(simplified_data).set_index('timestamp')\n",
    "#df.price.plot.line()\n",
    "for l in df.index:\n",
    "    print(l, '\\t',  df.loc[l].price)"
   ]
  },
  {
   "cell_type": "code",
   "execution_count": null,
   "metadata": {},
   "outputs": [],
   "source": [
    "df = pd.DataFrame(data)"
   ]
  },
  {
   "cell_type": "code",
   "execution_count": null,
   "metadata": {},
   "outputs": [],
   "source": [
    "df.to_pickle('./archive_data/_trade_data/nvda_trades_march_19.pkl')"
   ]
  },
  {
   "cell_type": "code",
   "execution_count": null,
   "metadata": {},
   "outputs": [],
   "source": [
    "a = pd.read_pickle('./archive_data/_trade_data/nvda_trades_march_19.pkl')"
   ]
  },
  {
   "cell_type": "code",
   "execution_count": null,
   "metadata": {},
   "outputs": [],
   "source": []
  }
 ],
 "metadata": {
  "kernelspec": {
   "display_name": "Python 3",
   "language": "python",
   "name": "python3"
  },
  "language_info": {
   "codemirror_mode": {
    "name": "ipython",
    "version": 3
   },
   "file_extension": ".py",
   "mimetype": "text/x-python",
   "name": "python",
   "nbconvert_exporter": "python",
   "pygments_lexer": "ipython3",
   "version": "3.10.12"
  }
 },
 "nbformat": 4,
 "nbformat_minor": 2
}
