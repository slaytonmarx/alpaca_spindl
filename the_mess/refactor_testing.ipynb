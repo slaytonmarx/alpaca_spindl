{
 "cells": [
  {
   "cell_type": "code",
   "execution_count": null,
   "metadata": {},
   "outputs": [],
   "source": [
    "%load_ext autoreload\n",
    "%autoreload 2\n",
    "\n",
    "import sys; sys.path.append('../lib/*/*'); sys.path.append('..')\n",
    "from lib.Portfolio import Portfolio\n",
    "import lib.TimeKeeper as tk\n",
    "import lib.Toolbox as tb"
   ]
  },
  {
   "cell_type": "code",
   "execution_count": null,
   "metadata": {},
   "outputs": [],
   "source": [
    "p = Portfolio(None, 'test')"
   ]
  },
  {
   "cell_type": "code",
   "execution_count": null,
   "metadata": {},
   "outputs": [],
   "source": [
    "p.add_stock('CVNA', tk.now(), 300, 5, -1)\n",
    "print(p.stocks)\n",
    "p.write_portfolio()"
   ]
  },
  {
   "cell_type": "code",
   "execution_count": null,
   "metadata": {},
   "outputs": [],
   "source": [
    "print(p.stocks)\n",
    "total = 0\n",
    "stocks_to_remove = []\n",
    "for stock in p.stocks['CVNA']:\n",
    "    if stock.price > 2: stocks_to_remove.append(stock)\n",
    "for stock in stocks_to_remove:\n",
    "    print(stock)\n",
    "    total += p.remove_stock('CVNA', stock, -1, 2)\n",
    "print(total)\n",
    "p.write_portfolio()"
   ]
  },
  {
   "cell_type": "code",
   "execution_count": null,
   "metadata": {},
   "outputs": [],
   "source": [
    "print(p.get_stock_stats('CVNA'))"
   ]
  },
  {
   "cell_type": "markdown",
   "metadata": {},
   "source": [
    "# TO DO\n",
    "1. Verify that time data is being pulled and utilized correctly\n",
    "2. Re-implement testing based on our time data understanding (so for example, if we recognize that we never buy by the first second then we should make sure that when we do buy it's likely that this and the next minute will go in our favor)"
   ]
  },
  {
   "cell_type": "markdown",
   "metadata": {},
   "source": [
    "# Time Step Testing\n",
    "What are we even doing at this instance? We need to test whether or not, when we pull data, that the data is going to be assigned to the correct minute, or are we just getting data from a previous minute? If we're getting data from a previous minute then that data is already a full minute past due, which could spell massive losses with us given how short out timescale is. So what do we do?\n",
    "\n",
    "We need to create a loop that pulls data every single second, and if there's a mismatch between .now() minute and index[-1].minute then we need to register it"
   ]
  },
  {
   "cell_type": "code",
   "execution_count": null,
   "metadata": {},
   "outputs": [],
   "source": [
    "while True:\n",
    "    print('\\n'+str(tk.now()))\n",
    "    data = tb.get_data('AMZN','1m','1d')\n",
    "    mr_entry = data.iloc[-1]\n",
    "    print('Our index pulled is:', data.index[-1])\n",
    "    print(mr_entry)\n",
    "    if data.index[-1].minute != tk.now().minute: print('\\tDISCRPENCY FOUND ',data.index[-1].minute, tk.now().minute)\n",
    "    tk.wait(1)"
   ]
  },
  {
   "cell_type": "code",
   "execution_count": null,
   "metadata": {},
   "outputs": [],
   "source": []
  }
 ],
 "metadata": {
  "kernelspec": {
   "display_name": "Python 3",
   "language": "python",
   "name": "python3"
  },
  "language_info": {
   "codemirror_mode": {
    "name": "ipython",
    "version": 3
   },
   "file_extension": ".py",
   "mimetype": "text/x-python",
   "name": "python",
   "nbconvert_exporter": "python",
   "pygments_lexer": "ipython3",
   "version": "3.10.12"
  }
 },
 "nbformat": 4,
 "nbformat_minor": 2
}
